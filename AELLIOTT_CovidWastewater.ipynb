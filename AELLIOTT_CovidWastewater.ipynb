{
 "cells": [
  {
   "cell_type": "markdown",
   "metadata": {},
   "source": [
    "<center> Andrea Elliott <center>"
   ]
  },
  {
   "cell_type": "markdown",
   "metadata": {},
   "source": [
    "This was completed as part of a weekly assignment for a data analytics class."
   ]
  },
  {
   "cell_type": "code",
   "execution_count": 1,
   "metadata": {},
   "outputs": [],
   "source": [
    "from pylab import * \n",
    "import pandas as pd\n",
    "import numpy as np\n",
    "import matplotlib.pyplot as plt"
   ]
  },
  {
   "cell_type": "markdown",
   "metadata": {},
   "source": [
    "I loaded a csv file and converted it to a data table. I then took a first pass look at the data."
   ]
  },
  {
   "cell_type": "code",
   "execution_count": 264,
   "metadata": {},
   "outputs": [
    {
     "data": {
      "text/html": [
       "<div>\n",
       "<style scoped>\n",
       "    .dataframe tbody tr th:only-of-type {\n",
       "        vertical-align: middle;\n",
       "    }\n",
       "\n",
       "    .dataframe tbody tr th {\n",
       "        vertical-align: top;\n",
       "    }\n",
       "\n",
       "    .dataframe thead th {\n",
       "        text-align: right;\n",
       "    }\n",
       "</style>\n",
       "<table border=\"1\" class=\"dataframe\">\n",
       "  <thead>\n",
       "    <tr style=\"text-align: right;\">\n",
       "      <th></th>\n",
       "      <th>FID</th>\n",
       "      <th>Site</th>\n",
       "      <th>Sample_Date</th>\n",
       "      <th>Week_Dates</th>\n",
       "      <th>Week</th>\n",
       "      <th>Day</th>\n",
       "      <th>Month</th>\n",
       "      <th>Test</th>\n",
       "      <th>Gene_Copies_per_Liter</th>\n",
       "      <th>Date_Updated</th>\n",
       "    </tr>\n",
       "  </thead>\n",
       "  <tbody>\n",
       "    <tr>\n",
       "      <th>0</th>\n",
       "      <td>1</td>\n",
       "      <td>TP01</td>\n",
       "      <td>2020/04/06 00:00:00+00</td>\n",
       "      <td>2020/03/30-04/05</td>\n",
       "      <td>2020.14</td>\n",
       "      <td>Average</td>\n",
       "      <td>(03) March</td>\n",
       "      <td>covid</td>\n",
       "      <td>5000.00</td>\n",
       "      <td>2020/05/26 00:00:00+00</td>\n",
       "    </tr>\n",
       "    <tr>\n",
       "      <th>1</th>\n",
       "      <td>2</td>\n",
       "      <td>TP01</td>\n",
       "      <td>2020/04/13 00:00:00+00</td>\n",
       "      <td>2020/04/06-04/12</td>\n",
       "      <td>2020.15</td>\n",
       "      <td>Average</td>\n",
       "      <td>(04) April</td>\n",
       "      <td>covid</td>\n",
       "      <td>927625.00</td>\n",
       "      <td>2020/05/22 00:00:00+00</td>\n",
       "    </tr>\n",
       "    <tr>\n",
       "      <th>2</th>\n",
       "      <td>3</td>\n",
       "      <td>TP01</td>\n",
       "      <td>2020/04/20 00:00:00+00</td>\n",
       "      <td>2020/04/13-04/19</td>\n",
       "      <td>2020.16</td>\n",
       "      <td>Average</td>\n",
       "      <td>(04) April</td>\n",
       "      <td>covid</td>\n",
       "      <td>17264.50</td>\n",
       "      <td>2020/05/22 00:00:00+00</td>\n",
       "    </tr>\n",
       "    <tr>\n",
       "      <th>3</th>\n",
       "      <td>4</td>\n",
       "      <td>TP01</td>\n",
       "      <td>2020/04/27 00:00:00+00</td>\n",
       "      <td>2020/04/20-04/26</td>\n",
       "      <td>2020.17</td>\n",
       "      <td>Average</td>\n",
       "      <td>(04) April</td>\n",
       "      <td>covid</td>\n",
       "      <td>12695.29</td>\n",
       "      <td>2020/05/22 00:00:00+00</td>\n",
       "    </tr>\n",
       "    <tr>\n",
       "      <th>4</th>\n",
       "      <td>5</td>\n",
       "      <td>TP01</td>\n",
       "      <td>2020/05/04 00:00:00+00</td>\n",
       "      <td>2020/04/27-05/03</td>\n",
       "      <td>2020.18</td>\n",
       "      <td>Average</td>\n",
       "      <td>(04) April</td>\n",
       "      <td>covid</td>\n",
       "      <td>5000.00</td>\n",
       "      <td>2020/05/22 00:00:00+00</td>\n",
       "    </tr>\n",
       "  </tbody>\n",
       "</table>\n",
       "</div>"
      ],
      "text/plain": [
       "   FID  Site             Sample_Date        Week_Dates     Week      Day  \\\n",
       "0    1  TP01  2020/04/06 00:00:00+00  2020/03/30-04/05  2020.14  Average   \n",
       "1    2  TP01  2020/04/13 00:00:00+00  2020/04/06-04/12  2020.15  Average   \n",
       "2    3  TP01  2020/04/20 00:00:00+00  2020/04/13-04/19  2020.16  Average   \n",
       "3    4  TP01  2020/04/27 00:00:00+00  2020/04/20-04/26  2020.17  Average   \n",
       "4    5  TP01  2020/05/04 00:00:00+00  2020/04/27-05/03  2020.18  Average   \n",
       "\n",
       "        Month   Test  Gene_Copies_per_Liter            Date_Updated  \n",
       "0  (03) March  covid                5000.00  2020/05/26 00:00:00+00  \n",
       "1  (04) April  covid              927625.00  2020/05/22 00:00:00+00  \n",
       "2  (04) April  covid               17264.50  2020/05/22 00:00:00+00  \n",
       "3  (04) April  covid               12695.29  2020/05/22 00:00:00+00  \n",
       "4  (04) April  covid                5000.00  2020/05/22 00:00:00+00  "
      ]
     },
     "execution_count": 264,
     "metadata": {},
     "output_type": "execute_result"
    }
   ],
   "source": [
    "covid = pd.read_csv('COVID_Wastewater.csv', sep = ',')\n",
    "covid.head()\n"
   ]
  },
  {
   "cell_type": "code",
   "execution_count": 4,
   "metadata": {
    "scrolled": true
   },
   "outputs": [
    {
     "data": {
      "text/html": [
       "<div>\n",
       "<style scoped>\n",
       "    .dataframe tbody tr th:only-of-type {\n",
       "        vertical-align: middle;\n",
       "    }\n",
       "\n",
       "    .dataframe tbody tr th {\n",
       "        vertical-align: top;\n",
       "    }\n",
       "\n",
       "    .dataframe thead th {\n",
       "        text-align: right;\n",
       "    }\n",
       "</style>\n",
       "<table border=\"1\" class=\"dataframe\">\n",
       "  <thead>\n",
       "    <tr style=\"text-align: right;\">\n",
       "      <th></th>\n",
       "      <th>FID</th>\n",
       "      <th>Site</th>\n",
       "      <th>Sample_Date</th>\n",
       "      <th>Week_Dates</th>\n",
       "      <th>Week</th>\n",
       "      <th>Day</th>\n",
       "      <th>Month</th>\n",
       "      <th>Test</th>\n",
       "      <th>Gene_Copies_per_Liter</th>\n",
       "      <th>Date_Updated</th>\n",
       "    </tr>\n",
       "  </thead>\n",
       "  <tbody>\n",
       "    <tr>\n",
       "      <th>0</th>\n",
       "      <td>1</td>\n",
       "      <td>TP01</td>\n",
       "      <td>2020/04/06 00:00:00+00</td>\n",
       "      <td>2020/03/30-04/05</td>\n",
       "      <td>2020.14</td>\n",
       "      <td>Average</td>\n",
       "      <td>(03) March</td>\n",
       "      <td>covid</td>\n",
       "      <td>5000.00</td>\n",
       "      <td>2020/05/26 00:00:00+00</td>\n",
       "    </tr>\n",
       "    <tr>\n",
       "      <th>1</th>\n",
       "      <td>2</td>\n",
       "      <td>TP01</td>\n",
       "      <td>2020/04/13 00:00:00+00</td>\n",
       "      <td>2020/04/06-04/12</td>\n",
       "      <td>2020.15</td>\n",
       "      <td>Average</td>\n",
       "      <td>(04) April</td>\n",
       "      <td>covid</td>\n",
       "      <td>927625.00</td>\n",
       "      <td>2020/05/22 00:00:00+00</td>\n",
       "    </tr>\n",
       "    <tr>\n",
       "      <th>2</th>\n",
       "      <td>3</td>\n",
       "      <td>TP01</td>\n",
       "      <td>2020/04/20 00:00:00+00</td>\n",
       "      <td>2020/04/13-04/19</td>\n",
       "      <td>2020.16</td>\n",
       "      <td>Average</td>\n",
       "      <td>(04) April</td>\n",
       "      <td>covid</td>\n",
       "      <td>17264.50</td>\n",
       "      <td>2020/05/22 00:00:00+00</td>\n",
       "    </tr>\n",
       "    <tr>\n",
       "      <th>3</th>\n",
       "      <td>4</td>\n",
       "      <td>TP01</td>\n",
       "      <td>2020/04/27 00:00:00+00</td>\n",
       "      <td>2020/04/20-04/26</td>\n",
       "      <td>2020.17</td>\n",
       "      <td>Average</td>\n",
       "      <td>(04) April</td>\n",
       "      <td>covid</td>\n",
       "      <td>12695.29</td>\n",
       "      <td>2020/05/22 00:00:00+00</td>\n",
       "    </tr>\n",
       "    <tr>\n",
       "      <th>4</th>\n",
       "      <td>5</td>\n",
       "      <td>TP01</td>\n",
       "      <td>2020/05/04 00:00:00+00</td>\n",
       "      <td>2020/04/27-05/03</td>\n",
       "      <td>2020.18</td>\n",
       "      <td>Average</td>\n",
       "      <td>(04) April</td>\n",
       "      <td>covid</td>\n",
       "      <td>5000.00</td>\n",
       "      <td>2020/05/22 00:00:00+00</td>\n",
       "    </tr>\n",
       "    <tr>\n",
       "      <th>...</th>\n",
       "      <td>...</td>\n",
       "      <td>...</td>\n",
       "      <td>...</td>\n",
       "      <td>...</td>\n",
       "      <td>...</td>\n",
       "      <td>...</td>\n",
       "      <td>...</td>\n",
       "      <td>...</td>\n",
       "      <td>...</td>\n",
       "      <td>...</td>\n",
       "    </tr>\n",
       "    <tr>\n",
       "      <th>338</th>\n",
       "      <td>348</td>\n",
       "      <td>Guadalupe</td>\n",
       "      <td>2021/02/14 06:59:59+00</td>\n",
       "      <td>2021/02/08-02/14/2021</td>\n",
       "      <td>2021.07</td>\n",
       "      <td>Average</td>\n",
       "      <td>(02) February</td>\n",
       "      <td>covid</td>\n",
       "      <td>453900.00</td>\n",
       "      <td>2021/02/19 06:59:59+00</td>\n",
       "    </tr>\n",
       "    <tr>\n",
       "      <th>339</th>\n",
       "      <td>349</td>\n",
       "      <td>NaN</td>\n",
       "      <td>NaN</td>\n",
       "      <td>NaN</td>\n",
       "      <td>NaN</td>\n",
       "      <td>NaN</td>\n",
       "      <td>NaN</td>\n",
       "      <td>NaN</td>\n",
       "      <td>NaN</td>\n",
       "      <td>NaN</td>\n",
       "    </tr>\n",
       "    <tr>\n",
       "      <th>340</th>\n",
       "      <td>350</td>\n",
       "      <td>NaN</td>\n",
       "      <td>NaN</td>\n",
       "      <td>NaN</td>\n",
       "      <td>NaN</td>\n",
       "      <td>NaN</td>\n",
       "      <td>NaN</td>\n",
       "      <td>NaN</td>\n",
       "      <td>NaN</td>\n",
       "      <td>NaN</td>\n",
       "    </tr>\n",
       "    <tr>\n",
       "      <th>341</th>\n",
       "      <td>351</td>\n",
       "      <td>NaN</td>\n",
       "      <td>NaN</td>\n",
       "      <td>NaN</td>\n",
       "      <td>NaN</td>\n",
       "      <td>NaN</td>\n",
       "      <td>NaN</td>\n",
       "      <td>NaN</td>\n",
       "      <td>NaN</td>\n",
       "      <td>NaN</td>\n",
       "    </tr>\n",
       "    <tr>\n",
       "      <th>342</th>\n",
       "      <td>352</td>\n",
       "      <td>NaN</td>\n",
       "      <td>NaN</td>\n",
       "      <td>NaN</td>\n",
       "      <td>NaN</td>\n",
       "      <td>NaN</td>\n",
       "      <td>NaN</td>\n",
       "      <td>NaN</td>\n",
       "      <td>NaN</td>\n",
       "      <td>NaN</td>\n",
       "    </tr>\n",
       "  </tbody>\n",
       "</table>\n",
       "<p>343 rows × 10 columns</p>\n",
       "</div>"
      ],
      "text/plain": [
       "     FID       Site             Sample_Date             Week_Dates     Week  \\\n",
       "0      1       TP01  2020/04/06 00:00:00+00       2020/03/30-04/05  2020.14   \n",
       "1      2       TP01  2020/04/13 00:00:00+00       2020/04/06-04/12  2020.15   \n",
       "2      3       TP01  2020/04/20 00:00:00+00       2020/04/13-04/19  2020.16   \n",
       "3      4       TP01  2020/04/27 00:00:00+00       2020/04/20-04/26  2020.17   \n",
       "4      5       TP01  2020/05/04 00:00:00+00       2020/04/27-05/03  2020.18   \n",
       "..   ...        ...                     ...                    ...      ...   \n",
       "338  348  Guadalupe  2021/02/14 06:59:59+00  2021/02/08-02/14/2021  2021.07   \n",
       "339  349        NaN                     NaN                    NaN      NaN   \n",
       "340  350        NaN                     NaN                    NaN      NaN   \n",
       "341  351        NaN                     NaN                    NaN      NaN   \n",
       "342  352        NaN                     NaN                    NaN      NaN   \n",
       "\n",
       "         Day          Month   Test  Gene_Copies_per_Liter  \\\n",
       "0    Average     (03) March  covid                5000.00   \n",
       "1    Average     (04) April  covid              927625.00   \n",
       "2    Average     (04) April  covid               17264.50   \n",
       "3    Average     (04) April  covid               12695.29   \n",
       "4    Average     (04) April  covid                5000.00   \n",
       "..       ...            ...    ...                    ...   \n",
       "338  Average  (02) February  covid              453900.00   \n",
       "339      NaN            NaN    NaN                    NaN   \n",
       "340      NaN            NaN    NaN                    NaN   \n",
       "341      NaN            NaN    NaN                    NaN   \n",
       "342      NaN            NaN    NaN                    NaN   \n",
       "\n",
       "               Date_Updated  \n",
       "0    2020/05/26 00:00:00+00  \n",
       "1    2020/05/22 00:00:00+00  \n",
       "2    2020/05/22 00:00:00+00  \n",
       "3    2020/05/22 00:00:00+00  \n",
       "4    2020/05/22 00:00:00+00  \n",
       "..                      ...  \n",
       "338  2021/02/19 06:59:59+00  \n",
       "339                     NaN  \n",
       "340                     NaN  \n",
       "341                     NaN  \n",
       "342                     NaN  \n",
       "\n",
       "[343 rows x 10 columns]"
      ]
     },
     "execution_count": 4,
     "metadata": {},
     "output_type": "execute_result"
    }
   ],
   "source": [
    "covid"
   ]
  },
  {
   "cell_type": "markdown",
   "metadata": {},
   "source": [
    "I explored my data a bit by looking at the column labels and using iloc to subset the data. I then found the mean gene copies of COVID per liter of wastewater across all sites and rounded the output to two decimals place. "
   ]
  },
  {
   "cell_type": "code",
   "execution_count": 265,
   "metadata": {},
   "outputs": [
    {
     "data": {
      "text/plain": [
       "Index(['FID', 'Site', 'Sample_Date', 'Week_Dates', 'Week', 'Day', 'Month',\n",
       "       'Test', 'Gene_Copies_per_Liter', 'Date_Updated'],\n",
       "      dtype='object')"
      ]
     },
     "execution_count": 265,
     "metadata": {},
     "output_type": "execute_result"
    }
   ],
   "source": [
    "covid.columns"
   ]
  },
  {
   "cell_type": "code",
   "execution_count": 266,
   "metadata": {},
   "outputs": [
    {
     "data": {
      "text/html": [
       "<div>\n",
       "<style scoped>\n",
       "    .dataframe tbody tr th:only-of-type {\n",
       "        vertical-align: middle;\n",
       "    }\n",
       "\n",
       "    .dataframe tbody tr th {\n",
       "        vertical-align: top;\n",
       "    }\n",
       "\n",
       "    .dataframe thead th {\n",
       "        text-align: right;\n",
       "    }\n",
       "</style>\n",
       "<table border=\"1\" class=\"dataframe\">\n",
       "  <thead>\n",
       "    <tr style=\"text-align: right;\">\n",
       "      <th></th>\n",
       "      <th>Sample_Date</th>\n",
       "      <th>Week_Dates</th>\n",
       "      <th>Week</th>\n",
       "    </tr>\n",
       "  </thead>\n",
       "  <tbody>\n",
       "    <tr>\n",
       "      <th>1</th>\n",
       "      <td>2020/04/13 00:00:00+00</td>\n",
       "      <td>2020/04/06-04/12</td>\n",
       "      <td>2020.15</td>\n",
       "    </tr>\n",
       "    <tr>\n",
       "      <th>2</th>\n",
       "      <td>2020/04/20 00:00:00+00</td>\n",
       "      <td>2020/04/13-04/19</td>\n",
       "      <td>2020.16</td>\n",
       "    </tr>\n",
       "  </tbody>\n",
       "</table>\n",
       "</div>"
      ],
      "text/plain": [
       "              Sample_Date        Week_Dates     Week\n",
       "1  2020/04/13 00:00:00+00  2020/04/06-04/12  2020.15\n",
       "2  2020/04/20 00:00:00+00  2020/04/13-04/19  2020.16"
      ]
     },
     "execution_count": 266,
     "metadata": {},
     "output_type": "execute_result"
    }
   ],
   "source": [
    "subset = covid.iloc[1:3, 2:5]\n",
    "subset"
   ]
  },
  {
   "cell_type": "code",
   "execution_count": 62,
   "metadata": {},
   "outputs": [
    {
     "data": {
      "text/plain": [
       "610187.47"
      ]
     },
     "execution_count": 62,
     "metadata": {},
     "output_type": "execute_result"
    }
   ],
   "source": [
    "print(round(mean(copiesPerLiter),2)) "
   ]
  },
  {
   "cell_type": "markdown",
   "metadata": {},
   "source": [
    "By glancing at the output from covid.head(), there seems to be dramatic differences in gene copies across days and sites. As such, the mean calculated in the previous cell does not actually give me very much information. Just out of curiousity, I will find the minimum and maximum."
   ]
  },
  {
   "cell_type": "code",
   "execution_count": 27,
   "metadata": {},
   "outputs": [
    {
     "name": "stdout",
     "output_type": "stream",
     "text": [
      "min = 5000.0\n",
      "max = 41771543.33\n"
     ]
    },
    {
     "data": {
      "text/plain": [
       "[None, None]"
      ]
     },
     "execution_count": 27,
     "metadata": {},
     "output_type": "execute_result"
    }
   ],
   "source": [
    "[print('min =', covid['Gene_Copies_per_Liter'].min()), print('max =', covid['Gene_Copies_per_Liter'].max())]"
   ]
  },
  {
   "cell_type": "markdown",
   "metadata": {},
   "source": [
    "I wanted to pull of the first 20 entries of just some of the columns to try to identify any pattern in the data. Is it organzied by site? week? number of gene copies in ascending order? None of these appears to be an organizing principle."
   ]
  },
  {
   "cell_type": "code",
   "execution_count": 17,
   "metadata": {},
   "outputs": [
    {
     "data": {
      "text/html": [
       "<div>\n",
       "<style scoped>\n",
       "    .dataframe tbody tr th:only-of-type {\n",
       "        vertical-align: middle;\n",
       "    }\n",
       "\n",
       "    .dataframe tbody tr th {\n",
       "        vertical-align: top;\n",
       "    }\n",
       "\n",
       "    .dataframe thead th {\n",
       "        text-align: right;\n",
       "    }\n",
       "</style>\n",
       "<table border=\"1\" class=\"dataframe\">\n",
       "  <thead>\n",
       "    <tr style=\"text-align: right;\">\n",
       "      <th></th>\n",
       "      <th>Site</th>\n",
       "      <th>Week</th>\n",
       "      <th>Gene_Copies_per_Liter</th>\n",
       "    </tr>\n",
       "  </thead>\n",
       "  <tbody>\n",
       "    <tr>\n",
       "      <th>0</th>\n",
       "      <td>TP01</td>\n",
       "      <td>2020.14</td>\n",
       "      <td>5000.00</td>\n",
       "    </tr>\n",
       "    <tr>\n",
       "      <th>1</th>\n",
       "      <td>TP01</td>\n",
       "      <td>2020.15</td>\n",
       "      <td>927625.00</td>\n",
       "    </tr>\n",
       "    <tr>\n",
       "      <th>2</th>\n",
       "      <td>TP01</td>\n",
       "      <td>2020.16</td>\n",
       "      <td>17264.50</td>\n",
       "    </tr>\n",
       "    <tr>\n",
       "      <th>3</th>\n",
       "      <td>TP01</td>\n",
       "      <td>2020.17</td>\n",
       "      <td>12695.29</td>\n",
       "    </tr>\n",
       "    <tr>\n",
       "      <th>4</th>\n",
       "      <td>TP01</td>\n",
       "      <td>2020.18</td>\n",
       "      <td>5000.00</td>\n",
       "    </tr>\n",
       "    <tr>\n",
       "      <th>5</th>\n",
       "      <td>TP01</td>\n",
       "      <td>2020.19</td>\n",
       "      <td>5000.00</td>\n",
       "    </tr>\n",
       "    <tr>\n",
       "      <th>6</th>\n",
       "      <td>TP01</td>\n",
       "      <td>2020.20</td>\n",
       "      <td>5000.00</td>\n",
       "    </tr>\n",
       "    <tr>\n",
       "      <th>7</th>\n",
       "      <td>TP01</td>\n",
       "      <td>2020.21</td>\n",
       "      <td>5000.00</td>\n",
       "    </tr>\n",
       "    <tr>\n",
       "      <th>8</th>\n",
       "      <td>TP02</td>\n",
       "      <td>2020.17</td>\n",
       "      <td>41771543.33</td>\n",
       "    </tr>\n",
       "    <tr>\n",
       "      <th>9</th>\n",
       "      <td>TP02</td>\n",
       "      <td>2020.18</td>\n",
       "      <td>5000.00</td>\n",
       "    </tr>\n",
       "    <tr>\n",
       "      <th>10</th>\n",
       "      <td>TP02</td>\n",
       "      <td>2020.19</td>\n",
       "      <td>5000.00</td>\n",
       "    </tr>\n",
       "    <tr>\n",
       "      <th>11</th>\n",
       "      <td>TP02</td>\n",
       "      <td>2020.20</td>\n",
       "      <td>5000.00</td>\n",
       "    </tr>\n",
       "    <tr>\n",
       "      <th>12</th>\n",
       "      <td>TP02</td>\n",
       "      <td>2020.21</td>\n",
       "      <td>5000.00</td>\n",
       "    </tr>\n",
       "    <tr>\n",
       "      <th>13</th>\n",
       "      <td>TP03</td>\n",
       "      <td>2020.17</td>\n",
       "      <td>5000.00</td>\n",
       "    </tr>\n",
       "    <tr>\n",
       "      <th>14</th>\n",
       "      <td>TP03</td>\n",
       "      <td>2020.18</td>\n",
       "      <td>5000.00</td>\n",
       "    </tr>\n",
       "    <tr>\n",
       "      <th>15</th>\n",
       "      <td>TP03</td>\n",
       "      <td>2020.19</td>\n",
       "      <td>5000.00</td>\n",
       "    </tr>\n",
       "    <tr>\n",
       "      <th>16</th>\n",
       "      <td>TP03</td>\n",
       "      <td>2020.20</td>\n",
       "      <td>5000.00</td>\n",
       "    </tr>\n",
       "    <tr>\n",
       "      <th>17</th>\n",
       "      <td>TP03</td>\n",
       "      <td>2020.21</td>\n",
       "      <td>5000.00</td>\n",
       "    </tr>\n",
       "    <tr>\n",
       "      <th>18</th>\n",
       "      <td>TP04</td>\n",
       "      <td>2020.17</td>\n",
       "      <td>5000.00</td>\n",
       "    </tr>\n",
       "    <tr>\n",
       "      <th>19</th>\n",
       "      <td>TP04</td>\n",
       "      <td>2020.18</td>\n",
       "      <td>5000.00</td>\n",
       "    </tr>\n",
       "  </tbody>\n",
       "</table>\n",
       "</div>"
      ],
      "text/plain": [
       "    Site     Week  Gene_Copies_per_Liter\n",
       "0   TP01  2020.14                5000.00\n",
       "1   TP01  2020.15              927625.00\n",
       "2   TP01  2020.16               17264.50\n",
       "3   TP01  2020.17               12695.29\n",
       "4   TP01  2020.18                5000.00\n",
       "5   TP01  2020.19                5000.00\n",
       "6   TP01  2020.20                5000.00\n",
       "7   TP01  2020.21                5000.00\n",
       "8   TP02  2020.17            41771543.33\n",
       "9   TP02  2020.18                5000.00\n",
       "10  TP02  2020.19                5000.00\n",
       "11  TP02  2020.20                5000.00\n",
       "12  TP02  2020.21                5000.00\n",
       "13  TP03  2020.17                5000.00\n",
       "14  TP03  2020.18                5000.00\n",
       "15  TP03  2020.19                5000.00\n",
       "16  TP03  2020.20                5000.00\n",
       "17  TP03  2020.21                5000.00\n",
       "18  TP04  2020.17                5000.00\n",
       "19  TP04  2020.18                5000.00"
      ]
     },
     "execution_count": 17,
     "metadata": {},
     "output_type": "execute_result"
    }
   ],
   "source": [
    "covid[['Site','Week','Gene_Copies_per_Liter']].head(20)"
   ]
  },
  {
   "cell_type": "markdown",
   "metadata": {},
   "source": [
    "I will take another look at my data.  "
   ]
  },
  {
   "cell_type": "code",
   "execution_count": 49,
   "metadata": {},
   "outputs": [
    {
     "name": "stdout",
     "output_type": "stream",
     "text": [
      "<class 'pandas.core.frame.DataFrame'>\n",
      "RangeIndex: 343 entries, 0 to 342\n",
      "Data columns (total 10 columns):\n",
      " #   Column                 Non-Null Count  Dtype  \n",
      "---  ------                 --------------  -----  \n",
      " 0   FID                    343 non-null    int64  \n",
      " 1   Site                   338 non-null    object \n",
      " 2   Sample_Date            338 non-null    object \n",
      " 3   Week_Dates             338 non-null    object \n",
      " 4   Week                   338 non-null    float64\n",
      " 5   Day                    338 non-null    object \n",
      " 6   Month                  338 non-null    object \n",
      " 7   Test                   338 non-null    object \n",
      " 8   Gene_Copies_per_Liter  338 non-null    float64\n",
      " 9   Date_Updated           337 non-null    object \n",
      "dtypes: float64(2), int64(1), object(7)\n",
      "memory usage: 26.9+ KB\n"
     ]
    }
   ],
   "source": [
    "covid.info()"
   ]
  },
  {
   "cell_type": "markdown",
   "metadata": {},
   "source": [
    "By comparing the non-null count to the total entries, I see that in most columns there are 4 NaNs. By looking at the covid.tail() output from above, I see that those entries all happen to fall in the final 4 rows. I will drop those rows, but first I will make a copy of my data."
   ]
  },
  {
   "cell_type": "code",
   "execution_count": 267,
   "metadata": {},
   "outputs": [
    {
     "data": {
      "text/html": [
       "<div>\n",
       "<style scoped>\n",
       "    .dataframe tbody tr th:only-of-type {\n",
       "        vertical-align: middle;\n",
       "    }\n",
       "\n",
       "    .dataframe tbody tr th {\n",
       "        vertical-align: top;\n",
       "    }\n",
       "\n",
       "    .dataframe thead th {\n",
       "        text-align: right;\n",
       "    }\n",
       "</style>\n",
       "<table border=\"1\" class=\"dataframe\">\n",
       "  <thead>\n",
       "    <tr style=\"text-align: right;\">\n",
       "      <th></th>\n",
       "      <th>FID</th>\n",
       "      <th>Site</th>\n",
       "      <th>Sample_Date</th>\n",
       "      <th>Week_Dates</th>\n",
       "      <th>Week</th>\n",
       "      <th>Day</th>\n",
       "      <th>Month</th>\n",
       "      <th>Test</th>\n",
       "      <th>Gene_Copies_per_Liter</th>\n",
       "      <th>Date_Updated</th>\n",
       "    </tr>\n",
       "  </thead>\n",
       "  <tbody>\n",
       "    <tr>\n",
       "      <th>0</th>\n",
       "      <td>1</td>\n",
       "      <td>TP01</td>\n",
       "      <td>2020/04/06 00:00:00+00</td>\n",
       "      <td>2020/03/30-04/05</td>\n",
       "      <td>2020.14</td>\n",
       "      <td>Average</td>\n",
       "      <td>(03) March</td>\n",
       "      <td>covid</td>\n",
       "      <td>5000.00</td>\n",
       "      <td>2020/05/26 00:00:00+00</td>\n",
       "    </tr>\n",
       "    <tr>\n",
       "      <th>1</th>\n",
       "      <td>2</td>\n",
       "      <td>TP01</td>\n",
       "      <td>2020/04/13 00:00:00+00</td>\n",
       "      <td>2020/04/06-04/12</td>\n",
       "      <td>2020.15</td>\n",
       "      <td>Average</td>\n",
       "      <td>(04) April</td>\n",
       "      <td>covid</td>\n",
       "      <td>927625.00</td>\n",
       "      <td>2020/05/22 00:00:00+00</td>\n",
       "    </tr>\n",
       "    <tr>\n",
       "      <th>2</th>\n",
       "      <td>3</td>\n",
       "      <td>TP01</td>\n",
       "      <td>2020/04/20 00:00:00+00</td>\n",
       "      <td>2020/04/13-04/19</td>\n",
       "      <td>2020.16</td>\n",
       "      <td>Average</td>\n",
       "      <td>(04) April</td>\n",
       "      <td>covid</td>\n",
       "      <td>17264.50</td>\n",
       "      <td>2020/05/22 00:00:00+00</td>\n",
       "    </tr>\n",
       "    <tr>\n",
       "      <th>3</th>\n",
       "      <td>4</td>\n",
       "      <td>TP01</td>\n",
       "      <td>2020/04/27 00:00:00+00</td>\n",
       "      <td>2020/04/20-04/26</td>\n",
       "      <td>2020.17</td>\n",
       "      <td>Average</td>\n",
       "      <td>(04) April</td>\n",
       "      <td>covid</td>\n",
       "      <td>12695.29</td>\n",
       "      <td>2020/05/22 00:00:00+00</td>\n",
       "    </tr>\n",
       "    <tr>\n",
       "      <th>4</th>\n",
       "      <td>5</td>\n",
       "      <td>TP01</td>\n",
       "      <td>2020/05/04 00:00:00+00</td>\n",
       "      <td>2020/04/27-05/03</td>\n",
       "      <td>2020.18</td>\n",
       "      <td>Average</td>\n",
       "      <td>(04) April</td>\n",
       "      <td>covid</td>\n",
       "      <td>5000.00</td>\n",
       "      <td>2020/05/22 00:00:00+00</td>\n",
       "    </tr>\n",
       "  </tbody>\n",
       "</table>\n",
       "</div>"
      ],
      "text/plain": [
       "   FID  Site             Sample_Date        Week_Dates     Week      Day  \\\n",
       "0    1  TP01  2020/04/06 00:00:00+00  2020/03/30-04/05  2020.14  Average   \n",
       "1    2  TP01  2020/04/13 00:00:00+00  2020/04/06-04/12  2020.15  Average   \n",
       "2    3  TP01  2020/04/20 00:00:00+00  2020/04/13-04/19  2020.16  Average   \n",
       "3    4  TP01  2020/04/27 00:00:00+00  2020/04/20-04/26  2020.17  Average   \n",
       "4    5  TP01  2020/05/04 00:00:00+00  2020/04/27-05/03  2020.18  Average   \n",
       "\n",
       "        Month   Test  Gene_Copies_per_Liter            Date_Updated  \n",
       "0  (03) March  covid                5000.00  2020/05/26 00:00:00+00  \n",
       "1  (04) April  covid              927625.00  2020/05/22 00:00:00+00  \n",
       "2  (04) April  covid               17264.50  2020/05/22 00:00:00+00  \n",
       "3  (04) April  covid               12695.29  2020/05/22 00:00:00+00  \n",
       "4  (04) April  covid                5000.00  2020/05/22 00:00:00+00  "
      ]
     },
     "execution_count": 267,
     "metadata": {},
     "output_type": "execute_result"
    }
   ],
   "source": [
    "covid_copy=covid.copy()\n",
    "covid_copy.head()"
   ]
  },
  {
   "cell_type": "code",
   "execution_count": 268,
   "metadata": {},
   "outputs": [
    {
     "data": {
      "text/html": [
       "<div>\n",
       "<style scoped>\n",
       "    .dataframe tbody tr th:only-of-type {\n",
       "        vertical-align: middle;\n",
       "    }\n",
       "\n",
       "    .dataframe tbody tr th {\n",
       "        vertical-align: top;\n",
       "    }\n",
       "\n",
       "    .dataframe thead th {\n",
       "        text-align: right;\n",
       "    }\n",
       "</style>\n",
       "<table border=\"1\" class=\"dataframe\">\n",
       "  <thead>\n",
       "    <tr style=\"text-align: right;\">\n",
       "      <th></th>\n",
       "      <th>FID</th>\n",
       "      <th>Site</th>\n",
       "      <th>Sample_Date</th>\n",
       "      <th>Week_Dates</th>\n",
       "      <th>Week</th>\n",
       "      <th>Day</th>\n",
       "      <th>Month</th>\n",
       "      <th>Test</th>\n",
       "      <th>Gene_Copies_per_Liter</th>\n",
       "      <th>Date_Updated</th>\n",
       "    </tr>\n",
       "  </thead>\n",
       "  <tbody>\n",
       "    <tr>\n",
       "      <th>0</th>\n",
       "      <td>1</td>\n",
       "      <td>TP01</td>\n",
       "      <td>2020/04/06 00:00:00+00</td>\n",
       "      <td>2020/03/30-04/05</td>\n",
       "      <td>2020.14</td>\n",
       "      <td>Average</td>\n",
       "      <td>(03) March</td>\n",
       "      <td>covid</td>\n",
       "      <td>5000.00</td>\n",
       "      <td>2020/05/26 00:00:00+00</td>\n",
       "    </tr>\n",
       "    <tr>\n",
       "      <th>1</th>\n",
       "      <td>2</td>\n",
       "      <td>TP01</td>\n",
       "      <td>2020/04/13 00:00:00+00</td>\n",
       "      <td>2020/04/06-04/12</td>\n",
       "      <td>2020.15</td>\n",
       "      <td>Average</td>\n",
       "      <td>(04) April</td>\n",
       "      <td>covid</td>\n",
       "      <td>927625.00</td>\n",
       "      <td>2020/05/22 00:00:00+00</td>\n",
       "    </tr>\n",
       "    <tr>\n",
       "      <th>2</th>\n",
       "      <td>3</td>\n",
       "      <td>TP01</td>\n",
       "      <td>2020/04/20 00:00:00+00</td>\n",
       "      <td>2020/04/13-04/19</td>\n",
       "      <td>2020.16</td>\n",
       "      <td>Average</td>\n",
       "      <td>(04) April</td>\n",
       "      <td>covid</td>\n",
       "      <td>17264.50</td>\n",
       "      <td>2020/05/22 00:00:00+00</td>\n",
       "    </tr>\n",
       "    <tr>\n",
       "      <th>3</th>\n",
       "      <td>4</td>\n",
       "      <td>TP01</td>\n",
       "      <td>2020/04/27 00:00:00+00</td>\n",
       "      <td>2020/04/20-04/26</td>\n",
       "      <td>2020.17</td>\n",
       "      <td>Average</td>\n",
       "      <td>(04) April</td>\n",
       "      <td>covid</td>\n",
       "      <td>12695.29</td>\n",
       "      <td>2020/05/22 00:00:00+00</td>\n",
       "    </tr>\n",
       "    <tr>\n",
       "      <th>4</th>\n",
       "      <td>5</td>\n",
       "      <td>TP01</td>\n",
       "      <td>2020/05/04 00:00:00+00</td>\n",
       "      <td>2020/04/27-05/03</td>\n",
       "      <td>2020.18</td>\n",
       "      <td>Average</td>\n",
       "      <td>(04) April</td>\n",
       "      <td>covid</td>\n",
       "      <td>5000.00</td>\n",
       "      <td>2020/05/22 00:00:00+00</td>\n",
       "    </tr>\n",
       "    <tr>\n",
       "      <th>...</th>\n",
       "      <td>...</td>\n",
       "      <td>...</td>\n",
       "      <td>...</td>\n",
       "      <td>...</td>\n",
       "      <td>...</td>\n",
       "      <td>...</td>\n",
       "      <td>...</td>\n",
       "      <td>...</td>\n",
       "      <td>...</td>\n",
       "      <td>...</td>\n",
       "    </tr>\n",
       "    <tr>\n",
       "      <th>334</th>\n",
       "      <td>344</td>\n",
       "      <td>TP04</td>\n",
       "      <td>2021/02/14 06:59:59+00</td>\n",
       "      <td>2021/02/08-02/14/2021</td>\n",
       "      <td>2021.07</td>\n",
       "      <td>Average</td>\n",
       "      <td>(02) February</td>\n",
       "      <td>covid</td>\n",
       "      <td>5000.00</td>\n",
       "      <td>2021/02/19 06:59:59+00</td>\n",
       "    </tr>\n",
       "    <tr>\n",
       "      <th>335</th>\n",
       "      <td>345</td>\n",
       "      <td>TP05</td>\n",
       "      <td>2021/02/14 06:59:59+00</td>\n",
       "      <td>2021/02/08-02/14/2021</td>\n",
       "      <td>2021.07</td>\n",
       "      <td>Average</td>\n",
       "      <td>(02) February</td>\n",
       "      <td>covid</td>\n",
       "      <td>447200.00</td>\n",
       "      <td>2021/02/19 06:59:59+00</td>\n",
       "    </tr>\n",
       "    <tr>\n",
       "      <th>336</th>\n",
       "      <td>346</td>\n",
       "      <td>TP06</td>\n",
       "      <td>2021/02/14 06:59:59+00</td>\n",
       "      <td>2021/02/08-02/14/2021</td>\n",
       "      <td>2021.07</td>\n",
       "      <td>Average</td>\n",
       "      <td>(02) February</td>\n",
       "      <td>covid</td>\n",
       "      <td>317400.00</td>\n",
       "      <td>2021/02/19 06:59:59+00</td>\n",
       "    </tr>\n",
       "    <tr>\n",
       "      <th>337</th>\n",
       "      <td>347</td>\n",
       "      <td>TP07</td>\n",
       "      <td>2021/02/14 06:59:59+00</td>\n",
       "      <td>2021/02/08-02/14/2021</td>\n",
       "      <td>2021.07</td>\n",
       "      <td>Average</td>\n",
       "      <td>(02) February</td>\n",
       "      <td>covid</td>\n",
       "      <td>351667.00</td>\n",
       "      <td>2021/02/19 06:59:59+00</td>\n",
       "    </tr>\n",
       "    <tr>\n",
       "      <th>338</th>\n",
       "      <td>348</td>\n",
       "      <td>Guadalupe</td>\n",
       "      <td>2021/02/14 06:59:59+00</td>\n",
       "      <td>2021/02/08-02/14/2021</td>\n",
       "      <td>2021.07</td>\n",
       "      <td>Average</td>\n",
       "      <td>(02) February</td>\n",
       "      <td>covid</td>\n",
       "      <td>453900.00</td>\n",
       "      <td>2021/02/19 06:59:59+00</td>\n",
       "    </tr>\n",
       "  </tbody>\n",
       "</table>\n",
       "<p>339 rows × 10 columns</p>\n",
       "</div>"
      ],
      "text/plain": [
       "     FID       Site             Sample_Date             Week_Dates     Week  \\\n",
       "0      1       TP01  2020/04/06 00:00:00+00       2020/03/30-04/05  2020.14   \n",
       "1      2       TP01  2020/04/13 00:00:00+00       2020/04/06-04/12  2020.15   \n",
       "2      3       TP01  2020/04/20 00:00:00+00       2020/04/13-04/19  2020.16   \n",
       "3      4       TP01  2020/04/27 00:00:00+00       2020/04/20-04/26  2020.17   \n",
       "4      5       TP01  2020/05/04 00:00:00+00       2020/04/27-05/03  2020.18   \n",
       "..   ...        ...                     ...                    ...      ...   \n",
       "334  344       TP04  2021/02/14 06:59:59+00  2021/02/08-02/14/2021  2021.07   \n",
       "335  345       TP05  2021/02/14 06:59:59+00  2021/02/08-02/14/2021  2021.07   \n",
       "336  346       TP06  2021/02/14 06:59:59+00  2021/02/08-02/14/2021  2021.07   \n",
       "337  347       TP07  2021/02/14 06:59:59+00  2021/02/08-02/14/2021  2021.07   \n",
       "338  348  Guadalupe  2021/02/14 06:59:59+00  2021/02/08-02/14/2021  2021.07   \n",
       "\n",
       "         Day          Month   Test  Gene_Copies_per_Liter  \\\n",
       "0    Average     (03) March  covid                5000.00   \n",
       "1    Average     (04) April  covid              927625.00   \n",
       "2    Average     (04) April  covid               17264.50   \n",
       "3    Average     (04) April  covid               12695.29   \n",
       "4    Average     (04) April  covid                5000.00   \n",
       "..       ...            ...    ...                    ...   \n",
       "334  Average  (02) February  covid                5000.00   \n",
       "335  Average  (02) February  covid              447200.00   \n",
       "336  Average  (02) February  covid              317400.00   \n",
       "337  Average  (02) February  covid              351667.00   \n",
       "338  Average  (02) February  covid              453900.00   \n",
       "\n",
       "               Date_Updated  \n",
       "0    2020/05/26 00:00:00+00  \n",
       "1    2020/05/22 00:00:00+00  \n",
       "2    2020/05/22 00:00:00+00  \n",
       "3    2020/05/22 00:00:00+00  \n",
       "4    2020/05/22 00:00:00+00  \n",
       "..                      ...  \n",
       "334  2021/02/19 06:59:59+00  \n",
       "335  2021/02/19 06:59:59+00  \n",
       "336  2021/02/19 06:59:59+00  \n",
       "337  2021/02/19 06:59:59+00  \n",
       "338  2021/02/19 06:59:59+00  \n",
       "\n",
       "[339 rows x 10 columns]"
      ]
     },
     "execution_count": 268,
     "metadata": {},
     "output_type": "execute_result"
    }
   ],
   "source": [
    "covid_copy.drop(covid_copy.index[339:343])"
   ]
  },
  {
   "cell_type": "markdown",
   "metadata": {},
   "source": [
    "The histograms below are only slightly informative. They show the distribution of the samples. The histogram labeled 'Week\" has an odd appearance. This is because there are no entries between week 52 of 2020 (labeled 2020.52) and week 1 of 2020 (labeled 2021.0)."
   ]
  },
  {
   "cell_type": "code",
   "execution_count": 65,
   "metadata": {},
   "outputs": [
    {
     "data": {
      "text/plain": [
       "array([[<AxesSubplot:title={'center':'FID'}>,\n",
       "        <AxesSubplot:title={'center':'Week'}>],\n",
       "       [<AxesSubplot:title={'center':'Gene_Copies_per_Liter'}>,\n",
       "        <AxesSubplot:>]], dtype=object)"
      ]
     },
     "execution_count": 65,
     "metadata": {},
     "output_type": "execute_result"
    },
    {
     "data": {
      "image/png": "[encoded data removed]",
      "text/plain": [
       "<Figure size 432x288 with 4 Axes>"
      ]
     },
     "metadata": {
      "needs_background": "light"
     },
     "output_type": "display_data"
    }
   ],
   "source": [
    "covid.hist()"
   ]
  },
  {
   "cell_type": "markdown",
   "metadata": {},
   "source": [
    "I took a first look at central tendency measures. "
   ]
  },
  {
   "cell_type": "code",
   "execution_count": 33,
   "metadata": {},
   "outputs": [
    {
     "data": {
      "text/html": [
       "<div>\n",
       "<style scoped>\n",
       "    .dataframe tbody tr th:only-of-type {\n",
       "        vertical-align: middle;\n",
       "    }\n",
       "\n",
       "    .dataframe tbody tr th {\n",
       "        vertical-align: top;\n",
       "    }\n",
       "\n",
       "    .dataframe thead th {\n",
       "        text-align: right;\n",
       "    }\n",
       "</style>\n",
       "<table border=\"1\" class=\"dataframe\">\n",
       "  <thead>\n",
       "    <tr style=\"text-align: right;\">\n",
       "      <th></th>\n",
       "      <th>FID</th>\n",
       "      <th>Week</th>\n",
       "      <th>Gene_Copies_per_Liter</th>\n",
       "    </tr>\n",
       "  </thead>\n",
       "  <tbody>\n",
       "    <tr>\n",
       "      <th>count</th>\n",
       "      <td>343.000000</td>\n",
       "      <td>338.000000</td>\n",
       "      <td>3.380000e+02</td>\n",
       "    </tr>\n",
       "    <tr>\n",
       "      <th>mean</th>\n",
       "      <td>176.629738</td>\n",
       "      <td>2020.462101</td>\n",
       "      <td>6.101875e+05</td>\n",
       "    </tr>\n",
       "    <tr>\n",
       "      <th>std</th>\n",
       "      <td>102.750877</td>\n",
       "      <td>0.274989</td>\n",
       "      <td>2.396814e+06</td>\n",
       "    </tr>\n",
       "    <tr>\n",
       "      <th>min</th>\n",
       "      <td>1.000000</td>\n",
       "      <td>2020.140000</td>\n",
       "      <td>5.000000e+03</td>\n",
       "    </tr>\n",
       "    <tr>\n",
       "      <th>25%</th>\n",
       "      <td>86.500000</td>\n",
       "      <td>2020.280000</td>\n",
       "      <td>5.000000e+03</td>\n",
       "    </tr>\n",
       "    <tr>\n",
       "      <th>50%</th>\n",
       "      <td>180.000000</td>\n",
       "      <td>2020.380000</td>\n",
       "      <td>1.351665e+05</td>\n",
       "    </tr>\n",
       "    <tr>\n",
       "      <th>75%</th>\n",
       "      <td>265.500000</td>\n",
       "      <td>2020.490000</td>\n",
       "      <td>6.003332e+05</td>\n",
       "    </tr>\n",
       "    <tr>\n",
       "      <th>max</th>\n",
       "      <td>352.000000</td>\n",
       "      <td>2021.070000</td>\n",
       "      <td>4.177154e+07</td>\n",
       "    </tr>\n",
       "  </tbody>\n",
       "</table>\n",
       "</div>"
      ],
      "text/plain": [
       "              FID         Week  Gene_Copies_per_Liter\n",
       "count  343.000000   338.000000           3.380000e+02\n",
       "mean   176.629738  2020.462101           6.101875e+05\n",
       "std    102.750877     0.274989           2.396814e+06\n",
       "min      1.000000  2020.140000           5.000000e+03\n",
       "25%     86.500000  2020.280000           5.000000e+03\n",
       "50%    180.000000  2020.380000           1.351665e+05\n",
       "75%    265.500000  2020.490000           6.003332e+05\n",
       "max    352.000000  2021.070000           4.177154e+07"
      ]
     },
     "execution_count": 33,
     "metadata": {},
     "output_type": "execute_result"
    }
   ],
   "source": [
    "covid_copy.describe()"
   ]
  },
  {
   "cell_type": "markdown",
   "metadata": {},
   "source": [
    "I don't find the histograms above particularly informative. I would like to find mean gene copies per liter according to site. This may actually be interesting if the sites weren't coded."
   ]
  },
  {
   "cell_type": "code",
   "execution_count": 269,
   "metadata": {},
   "outputs": [
    {
     "data": {
      "text/html": [
       "<div>\n",
       "<style scoped>\n",
       "    .dataframe tbody tr th:only-of-type {\n",
       "        vertical-align: middle;\n",
       "    }\n",
       "\n",
       "    .dataframe tbody tr th {\n",
       "        vertical-align: top;\n",
       "    }\n",
       "\n",
       "    .dataframe thead tr th {\n",
       "        text-align: left;\n",
       "    }\n",
       "\n",
       "    .dataframe thead tr:last-of-type th {\n",
       "        text-align: right;\n",
       "    }\n",
       "</style>\n",
       "<table border=\"1\" class=\"dataframe\">\n",
       "  <thead>\n",
       "    <tr>\n",
       "      <th></th>\n",
       "      <th colspan=\"6\" halign=\"left\">Gene_Copies_per_Liter</th>\n",
       "    </tr>\n",
       "    <tr>\n",
       "      <th></th>\n",
       "      <th>mean</th>\n",
       "      <th>median</th>\n",
       "      <th>min</th>\n",
       "      <th>max</th>\n",
       "      <th>std</th>\n",
       "      <th>var</th>\n",
       "    </tr>\n",
       "    <tr>\n",
       "      <th>Site</th>\n",
       "      <th></th>\n",
       "      <th></th>\n",
       "      <th></th>\n",
       "      <th></th>\n",
       "      <th></th>\n",
       "      <th></th>\n",
       "    </tr>\n",
       "  </thead>\n",
       "  <tbody>\n",
       "    <tr>\n",
       "      <th>Guadalupe</th>\n",
       "      <td>9.379907e+05</td>\n",
       "      <td>397895.500</td>\n",
       "      <td>5000.0</td>\n",
       "      <td>5778500.00</td>\n",
       "      <td>1.315980e+06</td>\n",
       "      <td>1.731802e+12</td>\n",
       "    </tr>\n",
       "    <tr>\n",
       "      <th>TP01</th>\n",
       "      <td>5.119697e+05</td>\n",
       "      <td>146466.500</td>\n",
       "      <td>5000.0</td>\n",
       "      <td>4148233.00</td>\n",
       "      <td>9.050315e+05</td>\n",
       "      <td>8.190820e+11</td>\n",
       "    </tr>\n",
       "    <tr>\n",
       "      <th>TP02</th>\n",
       "      <td>1.516672e+06</td>\n",
       "      <td>328400.000</td>\n",
       "      <td>5000.0</td>\n",
       "      <td>41771543.33</td>\n",
       "      <td>6.313115e+06</td>\n",
       "      <td>3.985543e+13</td>\n",
       "    </tr>\n",
       "    <tr>\n",
       "      <th>TP03</th>\n",
       "      <td>2.058800e+04</td>\n",
       "      <td>5000.000</td>\n",
       "      <td>5000.0</td>\n",
       "      <td>356467.00</td>\n",
       "      <td>6.748076e+04</td>\n",
       "      <td>4.553653e+09</td>\n",
       "    </tr>\n",
       "    <tr>\n",
       "      <th>TP04</th>\n",
       "      <td>2.337491e+05</td>\n",
       "      <td>25964.785</td>\n",
       "      <td>5000.0</td>\n",
       "      <td>1730300.00</td>\n",
       "      <td>3.814111e+05</td>\n",
       "      <td>1.454744e+11</td>\n",
       "    </tr>\n",
       "    <tr>\n",
       "      <th>TP05</th>\n",
       "      <td>4.344481e+05</td>\n",
       "      <td>88200.000</td>\n",
       "      <td>5000.0</td>\n",
       "      <td>4428800.00</td>\n",
       "      <td>9.408734e+05</td>\n",
       "      <td>8.852428e+11</td>\n",
       "    </tr>\n",
       "    <tr>\n",
       "      <th>TP06</th>\n",
       "      <td>7.182415e+05</td>\n",
       "      <td>303433.500</td>\n",
       "      <td>5000.0</td>\n",
       "      <td>3909967.00</td>\n",
       "      <td>8.815124e+05</td>\n",
       "      <td>7.770642e+11</td>\n",
       "    </tr>\n",
       "    <tr>\n",
       "      <th>TP07</th>\n",
       "      <td>4.883891e+05</td>\n",
       "      <td>351667.000</td>\n",
       "      <td>5000.0</td>\n",
       "      <td>2535367.00</td>\n",
       "      <td>6.389123e+05</td>\n",
       "      <td>4.082089e+11</td>\n",
       "    </tr>\n",
       "  </tbody>\n",
       "</table>\n",
       "</div>"
      ],
      "text/plain": [
       "          Gene_Copies_per_Liter                                   \\\n",
       "                           mean      median     min          max   \n",
       "Site                                                               \n",
       "Guadalupe          9.379907e+05  397895.500  5000.0   5778500.00   \n",
       "TP01               5.119697e+05  146466.500  5000.0   4148233.00   \n",
       "TP02               1.516672e+06  328400.000  5000.0  41771543.33   \n",
       "TP03               2.058800e+04    5000.000  5000.0    356467.00   \n",
       "TP04               2.337491e+05   25964.785  5000.0   1730300.00   \n",
       "TP05               4.344481e+05   88200.000  5000.0   4428800.00   \n",
       "TP06               7.182415e+05  303433.500  5000.0   3909967.00   \n",
       "TP07               4.883891e+05  351667.000  5000.0   2535367.00   \n",
       "\n",
       "                                       \n",
       "                    std           var  \n",
       "Site                                   \n",
       "Guadalupe  1.315980e+06  1.731802e+12  \n",
       "TP01       9.050315e+05  8.190820e+11  \n",
       "TP02       6.313115e+06  3.985543e+13  \n",
       "TP03       6.748076e+04  4.553653e+09  \n",
       "TP04       3.814111e+05  1.454744e+11  \n",
       "TP05       9.408734e+05  8.852428e+11  \n",
       "TP06       8.815124e+05  7.770642e+11  \n",
       "TP07       6.389123e+05  4.082089e+11  "
      ]
     },
     "execution_count": 269,
     "metadata": {},
     "output_type": "execute_result"
    }
   ],
   "source": [
    "bySite = covid_copy.groupby(['Site']).agg( {'Gene_Copies_per_Liter':['mean', 'median', 'min', 'max', 'std', 'var']})\n",
    "bySite"
   ]
  },
  {
   "cell_type": "markdown",
   "metadata": {},
   "source": [
    "I would like to plot only the mean values across sites. "
   ]
  },
  {
   "cell_type": "code",
   "execution_count": 270,
   "metadata": {},
   "outputs": [
    {
     "data": {
      "text/plain": [
       "MultiIndex([('Gene_Copies_per_Liter',   'mean'),\n",
       "            ('Gene_Copies_per_Liter', 'median'),\n",
       "            ('Gene_Copies_per_Liter',    'min'),\n",
       "            ('Gene_Copies_per_Liter',    'max'),\n",
       "            ('Gene_Copies_per_Liter',    'std'),\n",
       "            ('Gene_Copies_per_Liter',    'var')],\n",
       "           )"
      ]
     },
     "execution_count": 270,
     "metadata": {},
     "output_type": "execute_result"
    }
   ],
   "source": [
    "bySite.columns"
   ]
  },
  {
   "cell_type": "code",
   "execution_count": 54,
   "metadata": {},
   "outputs": [
    {
     "data": {
      "text/plain": [
       "<AxesSubplot:xlabel='Site'>"
      ]
     },
     "execution_count": 54,
     "metadata": {},
     "output_type": "execute_result"
    },
    {
     "data": {
      "image/png": "[encoded data removed]",
      "text/plain": [
       "<Figure size 432x288 with 1 Axes>"
      ]
     },
     "metadata": {
      "needs_background": "light"
     },
     "output_type": "display_data"
    }
   ],
   "source": [
    "bySite[('Gene_Copies_per_Liter',   'mean')].plot.bar()"
   ]
  },
  {
   "cell_type": "markdown",
   "metadata": {},
   "source": [
    "I could not figure out how to add errorbars without using matplotlib. I added a line at the beginning of my notebook to import matplotlib and then executed the code in the cells below to create a graph with error bars."
   ]
  },
  {
   "cell_type": "code",
   "execution_count": 67,
   "metadata": {
    "scrolled": true
   },
   "outputs": [
    {
     "data": {
      "text/plain": [
       "Site\n",
       "Guadalupe    1.315980e+06\n",
       "TP01         9.050315e+05\n",
       "TP02         6.313115e+06\n",
       "TP03         6.748076e+04\n",
       "TP04         3.814111e+05\n",
       "TP05         9.408734e+05\n",
       "TP06         8.815124e+05\n",
       "TP07         6.389123e+05\n",
       "Name: (Gene_Copies_per_Liter, std), dtype: float64"
      ]
     },
     "execution_count": 67,
     "metadata": {},
     "output_type": "execute_result"
    }
   ],
   "source": [
    "copies = bySite[('Gene_Copies_per_Liter',   'mean')]\n",
    "copiesStd = bySite[('Gene_Copies_per_Liter',   'std')]\n",
    "copiesStd"
   ]
  },
  {
   "cell_type": "markdown",
   "metadata": {},
   "source": [
    "I will transpose the dataframe so I can easily access the column headings."
   ]
  },
  {
   "cell_type": "code",
   "execution_count": 271,
   "metadata": {},
   "outputs": [
    {
     "data": {
      "text/plain": [
       "Index(['Guadalupe', 'TP01', 'TP02', 'TP03', 'TP04', 'TP05', 'TP06', 'TP07'], dtype='object', name='Site')"
      ]
     },
     "execution_count": 271,
     "metadata": {},
     "output_type": "execute_result"
    }
   ],
   "source": [
    "bySiteT=bySite.T\n",
    "siteLabel=bySiteT.columns\n",
    "siteLabel "
   ]
  },
  {
   "cell_type": "code",
   "execution_count": 94,
   "metadata": {},
   "outputs": [
    {
     "data": {
      "text/plain": [
       "Text(0, 0.5, 'Gene Copies Per Liter of Wastewater')"
      ]
     },
     "execution_count": 94,
     "metadata": {},
     "output_type": "execute_result"
    },
    {
     "data": {
      "image/png": "[encoded data removed]",
      "text/plain": [
       "<Figure size 432x288 with 1 Axes>"
      ]
     },
     "metadata": {
      "needs_background": "light"
     },
     "output_type": "display_data"
    }
   ],
   "source": [
    "plt.bar(siteLabel, copies)\n",
    "plt.errorbar(siteLabel, copies,yerr=copiesStd, fmt = 'o')\n",
    "plt.title('Coronavirus Gene Copies in Wastewater')\n",
    "plt.xlabel('Site of Collection')\n",
    "plt.ylabel('Gene Copies Per Liter of Wastewater')"
   ]
  },
  {
   "cell_type": "markdown",
   "metadata": {},
   "source": [
    "While the bar graphs are interesting, it would also be interesting to look at the change in gene copies per liter in wastewater over time. There are many ways to look at this. I could look at changes across time for each site using a line plot. However, for this exercise, I chose to get a composite look by averaging across the sites to look at the average gene copies per liter for each week. "
   ]
  },
  {
   "cell_type": "code",
   "execution_count": 272,
   "metadata": {},
   "outputs": [
    {
     "data": {
      "text/html": [
       "<div>\n",
       "<style scoped>\n",
       "    .dataframe tbody tr th:only-of-type {\n",
       "        vertical-align: middle;\n",
       "    }\n",
       "\n",
       "    .dataframe tbody tr th {\n",
       "        vertical-align: top;\n",
       "    }\n",
       "\n",
       "    .dataframe thead tr th {\n",
       "        text-align: left;\n",
       "    }\n",
       "\n",
       "    .dataframe thead tr:last-of-type th {\n",
       "        text-align: right;\n",
       "    }\n",
       "</style>\n",
       "<table border=\"1\" class=\"dataframe\">\n",
       "  <thead>\n",
       "    <tr>\n",
       "      <th></th>\n",
       "      <th colspan=\"6\" halign=\"left\">Gene_Copies_per_Liter</th>\n",
       "    </tr>\n",
       "    <tr>\n",
       "      <th></th>\n",
       "      <th>mean</th>\n",
       "      <th>median</th>\n",
       "      <th>min</th>\n",
       "      <th>max</th>\n",
       "      <th>std</th>\n",
       "      <th>var</th>\n",
       "    </tr>\n",
       "    <tr>\n",
       "      <th>Week</th>\n",
       "      <th></th>\n",
       "      <th></th>\n",
       "      <th></th>\n",
       "      <th></th>\n",
       "      <th></th>\n",
       "      <th></th>\n",
       "    </tr>\n",
       "  </thead>\n",
       "  <tbody>\n",
       "    <tr>\n",
       "      <th>2020.14</th>\n",
       "      <td>5.000000e+03</td>\n",
       "      <td>5000.000</td>\n",
       "      <td>5000.0</td>\n",
       "      <td>5000.00</td>\n",
       "      <td>NaN</td>\n",
       "      <td>NaN</td>\n",
       "    </tr>\n",
       "    <tr>\n",
       "      <th>2020.15</th>\n",
       "      <td>9.276250e+05</td>\n",
       "      <td>927625.000</td>\n",
       "      <td>927625.0</td>\n",
       "      <td>927625.00</td>\n",
       "      <td>NaN</td>\n",
       "      <td>NaN</td>\n",
       "    </tr>\n",
       "    <tr>\n",
       "      <th>2020.16</th>\n",
       "      <td>1.113225e+04</td>\n",
       "      <td>11132.250</td>\n",
       "      <td>5000.0</td>\n",
       "      <td>17264.50</td>\n",
       "      <td>8.672311e+03</td>\n",
       "      <td>7.520898e+07</td>\n",
       "    </tr>\n",
       "    <tr>\n",
       "      <th>2020.17</th>\n",
       "      <td>6.975217e+06</td>\n",
       "      <td>12328.645</td>\n",
       "      <td>5000.0</td>\n",
       "      <td>41771543.33</td>\n",
       "      <td>1.704666e+07</td>\n",
       "      <td>2.905885e+14</td>\n",
       "    </tr>\n",
       "    <tr>\n",
       "      <th>2020.18</th>\n",
       "      <td>5.000000e+03</td>\n",
       "      <td>5000.000</td>\n",
       "      <td>5000.0</td>\n",
       "      <td>5000.00</td>\n",
       "      <td>0.000000e+00</td>\n",
       "      <td>0.000000e+00</td>\n",
       "    </tr>\n",
       "  </tbody>\n",
       "</table>\n",
       "</div>"
      ],
      "text/plain": [
       "        Gene_Copies_per_Liter                                     \\\n",
       "                         mean      median       min          max   \n",
       "Week                                                               \n",
       "2020.14          5.000000e+03    5000.000    5000.0      5000.00   \n",
       "2020.15          9.276250e+05  927625.000  927625.0    927625.00   \n",
       "2020.16          1.113225e+04   11132.250    5000.0     17264.50   \n",
       "2020.17          6.975217e+06   12328.645    5000.0  41771543.33   \n",
       "2020.18          5.000000e+03    5000.000    5000.0      5000.00   \n",
       "\n",
       "                                     \n",
       "                  std           var  \n",
       "Week                                 \n",
       "2020.14           NaN           NaN  \n",
       "2020.15           NaN           NaN  \n",
       "2020.16  8.672311e+03  7.520898e+07  \n",
       "2020.17  1.704666e+07  2.905885e+14  \n",
       "2020.18  0.000000e+00  0.000000e+00  "
      ]
     },
     "execution_count": 272,
     "metadata": {},
     "output_type": "execute_result"
    }
   ],
   "source": [
    "byDate = covid_copy.groupby(['Week']).agg( {'Gene_Copies_per_Liter':['mean', 'median', 'min', 'max', 'std', 'var']})\n",
    "byDate.head()"
   ]
  },
  {
   "cell_type": "code",
   "execution_count": 280,
   "metadata": {},
   "outputs": [],
   "source": [
    "copiesDate = byDate[('Gene_Copies_per_Liter',   'mean')]\n",
    "copiesDateStd = byDate[('Gene_Copies_per_Liter',   'std')]"
   ]
  },
  {
   "cell_type": "code",
   "execution_count": 277,
   "metadata": {},
   "outputs": [
    {
     "data": {
      "text/plain": [
       "Float64Index([2020.14, 2020.15, 2020.16, 2020.17, 2020.18, 2020.19,  2020.2,\n",
       "              2020.21, 2020.22, 2020.23, 2020.24, 2020.25, 2020.26, 2020.27,\n",
       "              2020.28, 2020.29,  2020.3, 2020.31, 2020.32, 2020.33, 2020.34,\n",
       "              2020.35, 2020.36, 2020.37, 2020.38, 2020.39,  2020.4, 2020.41,\n",
       "              2020.42, 2020.43, 2020.44, 2020.45, 2020.46, 2020.47, 2020.48,\n",
       "              2020.49,  2020.5, 2020.51, 2020.52, 2021.01, 2021.02, 2021.03,\n",
       "              2021.04, 2021.05, 2021.06, 2021.07],\n",
       "             dtype='float64', name='Week')"
      ]
     },
     "execution_count": 277,
     "metadata": {},
     "output_type": "execute_result"
    }
   ],
   "source": [
    "byDateT=byDate.T\n",
    "dateLabel=byDateT.columns\n",
    "dateLabel #this will be x"
   ]
  },
  {
   "cell_type": "code",
   "execution_count": 123,
   "metadata": {},
   "outputs": [
    {
     "data": {
      "text/plain": [
       "Text(0, 0.5, 'Gene Copies Per Liter of Wastewater')"
      ]
     },
     "execution_count": 123,
     "metadata": {},
     "output_type": "execute_result"
    },
    {
     "data": {
      "image/png": "[encoded data removed]",
      "text/plain": [
       "<Figure size 432x288 with 1 Axes>"
      ]
     },
     "metadata": {
      "needs_background": "light"
     },
     "output_type": "display_data"
    }
   ],
   "source": [
    "plt.plot(dateLabel, copiesDate)\n",
    "plt.errorbar(dateLabel, copiesDate, yerr=copiesDateStd, fmt = 'o')\n",
    "plt.title('Coronavirus Gene Copies in Wastewater')\n",
    "plt.xlabel('Date of Collection')\n",
    "plt.ylabel('Gene Copies Per Liter of Wastewater')"
   ]
  },
  {
   "cell_type": "markdown",
   "metadata": {},
   "source": [
    "This isn't a very helpful plot for the same reason that the plot above isn't helpful: there are no entries between 2020.52 and 2021.0. In order to take a closer look at the data from 2020, I will adjust the axes. There is also an interesting spike in gene copies per liter around the 19th week. "
   ]
  },
  {
   "cell_type": "code",
   "execution_count": 284,
   "metadata": {},
   "outputs": [
    {
     "data": {
      "text/plain": [
       "Text(0, 0.5, 'Gene Copies Per Liter of Wastewater')"
      ]
     },
     "execution_count": 284,
     "metadata": {},
     "output_type": "execute_result"
    },
    {
     "data": {
      "image/png": "[encoded data removed]",
      "text/plain": [
       "<Figure size 432x288 with 1 Axes>"
      ]
     },
     "metadata": {
      "needs_background": "light"
     },
     "output_type": "display_data"
    }
   ],
   "source": [
    "#I multiplied by 100 so at least the labels were easy to read at first glance. The \"+2.02e5\" can be ignored.\n",
    "#that is a remnant of the '2020' part of the week.\n",
    "\n",
    "plt.plot(dateLabel[0:39]*100, copies2020) \n",
    "plt.title('Coronavirus Gene Copies in Wastewater')\n",
    "plt.xlabel('Week of Wastewater Collection in 2020')\n",
    "plt.ylabel('Gene Copies Per Liter of Wastewater')"
   ]
  },
  {
   "cell_type": "markdown",
   "metadata": {},
   "source": [
    "I created another plots to look at the values from 2021. I adjusted the y-axis so that the two plots were on the same scale."
   ]
  },
  {
   "cell_type": "code",
   "execution_count": 193,
   "metadata": {},
   "outputs": [
    {
     "data": {
      "text/plain": [
       "(0.0, 7000000.0)"
      ]
     },
     "execution_count": 193,
     "metadata": {},
     "output_type": "execute_result"
    },
    {
     "data": {
      "image/png": "[encoded data removed]",
      "text/plain": [
       "<Figure size 432x288 with 1 Axes>"
      ]
     },
     "metadata": {
      "needs_background": "light"
     },
     "output_type": "display_data"
    }
   ],
   "source": [
    "    plt.plot(dateLabel[40:]*100, copiesDate.iloc[40:]) \n",
    "    plt.title('Coronavirus Gene Copies in Wastewater')\n",
    "    plt.xlabel('Week of Wastewater Collection in 2021')\n",
    "    plt.ylabel('Gene Copies Per Liter of Wastewater')\n",
    "    plt.ylim([0, 7000000])"
   ]
  },
  {
   "cell_type": "markdown",
   "metadata": {},
   "source": [
    "<center><b> Discussion </b><center>\n",
    "    \n",
    "\n",
    "The errorbars tell me that there was a great deal of variability in the samples from TP02. This analysis would be more interesting if I knew the names of sites from which the data were gathered.\n",
    "    \n",
    "Given what we know about the timecourse of coronavirus infection in the U.S., these graphs are not reflective of the United States as a whole. The final graph shows a steady decrease in coronavirus gene copies in wastewater during the first 7 weeks of 2021. In reality, coronavirus cases peaked in the United States during this time. It is possible that the wastewater measurements do not accurately measure infection rates or lag behind the actual infection rates (perhaps th. Alternatively, it is possible these sites do not reflect the U.S. as a whole. Rates of infection varied greatly across the U.S."
   ]
  },
  {
   "cell_type": "markdown",
   "metadata": {},
   "source": [
    "<center><b> References </b><center>\n",
    "\n",
    "City of Tempe (2020, November 12). COVID Wasterwater Results (Public View). Data.gov. Retrieved March 11, 2021 from https://catalog.data.gov/dataset/covid-wastewater-results-public-view. "
   ]
  },
  {
   "cell_type": "code",
   "execution_count": 310,
   "metadata": {},
   "outputs": [],
   "source": [
    "#I would like to show these graphs on a single x-axis\n",
    "#This code successfully created ax, but I got an error when plotting in the next cell\n",
    "\n",
    "y2020=np.arange(14,53)\n",
    "y2021=np.arange(1,8)\n",
    "ax=pd.concat([pd.DataFrame(y2020), pd.DataFrame(y2021)])\n",
    "\n",
    "#the code below also created ax, but I got an error when plotting.\n",
    "#ax =[pd.DataFrame([y2020], dtype=object), pd.DataFrame([y2021], dtype=object)]\n"
   ]
  },
  {
   "cell_type": "code",
   "execution_count": 313,
   "metadata": {},
   "outputs": [
    {
     "data": {
      "text/plain": [
       "46"
      ]
     },
     "execution_count": 313,
     "metadata": {},
     "output_type": "execute_result"
    }
   ],
   "source": [
    "len(ax)\n",
    "len(copiesDate)"
   ]
  },
  {
   "cell_type": "code",
   "execution_count": 311,
   "metadata": {},
   "outputs": [
    {
     "ename": "KeyError",
     "evalue": "(slice(None, None, None), None)",
     "output_type": "error",
     "traceback": [
      "\u001b[0;31m---------------------------------------------------------------------------\u001b[0m",
      "\u001b[0;31mKeyError\u001b[0m                                  Traceback (most recent call last)",
      "\u001b[0;32m<ipython-input-311-ff9756ca4f9d>\u001b[0m in \u001b[0;36m<module>\u001b[0;34m\u001b[0m\n\u001b[0;32m----> 1\u001b[0;31m \u001b[0mplt\u001b[0m\u001b[0;34m.\u001b[0m\u001b[0mplot\u001b[0m\u001b[0;34m(\u001b[0m\u001b[0max\u001b[0m\u001b[0;34m,\u001b[0m \u001b[0mcopiesDate\u001b[0m\u001b[0;34m)\u001b[0m\u001b[0;34m\u001b[0m\u001b[0;34m\u001b[0m\u001b[0m\n\u001b[0m\u001b[1;32m      2\u001b[0m \u001b[0;31m#plt.errorbar(dateLabel, ax, yerr=copiesDateStd, fmt = 'o')\u001b[0m\u001b[0;34m\u001b[0m\u001b[0;34m\u001b[0m\u001b[0;34m\u001b[0m\u001b[0m\n\u001b[1;32m      3\u001b[0m \u001b[0mplt\u001b[0m\u001b[0;34m.\u001b[0m\u001b[0mtitle\u001b[0m\u001b[0;34m(\u001b[0m\u001b[0;34m'Coronavirus Gene Copies in Wastewater'\u001b[0m\u001b[0;34m)\u001b[0m\u001b[0;34m\u001b[0m\u001b[0;34m\u001b[0m\u001b[0m\n\u001b[1;32m      4\u001b[0m \u001b[0mplt\u001b[0m\u001b[0;34m.\u001b[0m\u001b[0mxlabel\u001b[0m\u001b[0;34m(\u001b[0m\u001b[0;34m'Date of Collection'\u001b[0m\u001b[0;34m)\u001b[0m\u001b[0;34m\u001b[0m\u001b[0;34m\u001b[0m\u001b[0m\n\u001b[1;32m      5\u001b[0m \u001b[0mplt\u001b[0m\u001b[0;34m.\u001b[0m\u001b[0mylabel\u001b[0m\u001b[0;34m(\u001b[0m\u001b[0;34m'Gene Copies Per Liter of Wastewater'\u001b[0m\u001b[0;34m)\u001b[0m\u001b[0;34m\u001b[0m\u001b[0;34m\u001b[0m\u001b[0m\n",
      "\u001b[0;32m/opt/anaconda3/lib/python3.8/site-packages/matplotlib/pyplot.py\u001b[0m in \u001b[0;36mplot\u001b[0;34m(scalex, scaley, data, *args, **kwargs)\u001b[0m\n\u001b[1;32m   2838\u001b[0m \u001b[0;34m@\u001b[0m\u001b[0m_copy_docstring_and_deprecators\u001b[0m\u001b[0;34m(\u001b[0m\u001b[0mAxes\u001b[0m\u001b[0;34m.\u001b[0m\u001b[0mplot\u001b[0m\u001b[0;34m)\u001b[0m\u001b[0;34m\u001b[0m\u001b[0;34m\u001b[0m\u001b[0m\n\u001b[1;32m   2839\u001b[0m \u001b[0;32mdef\u001b[0m \u001b[0mplot\u001b[0m\u001b[0;34m(\u001b[0m\u001b[0;34m*\u001b[0m\u001b[0margs\u001b[0m\u001b[0;34m,\u001b[0m \u001b[0mscalex\u001b[0m\u001b[0;34m=\u001b[0m\u001b[0;32mTrue\u001b[0m\u001b[0;34m,\u001b[0m \u001b[0mscaley\u001b[0m\u001b[0;34m=\u001b[0m\u001b[0;32mTrue\u001b[0m\u001b[0;34m,\u001b[0m \u001b[0mdata\u001b[0m\u001b[0;34m=\u001b[0m\u001b[0;32mNone\u001b[0m\u001b[0;34m,\u001b[0m \u001b[0;34m**\u001b[0m\u001b[0mkwargs\u001b[0m\u001b[0;34m)\u001b[0m\u001b[0;34m:\u001b[0m\u001b[0;34m\u001b[0m\u001b[0;34m\u001b[0m\u001b[0m\n\u001b[0;32m-> 2840\u001b[0;31m     return gca().plot(\n\u001b[0m\u001b[1;32m   2841\u001b[0m         \u001b[0;34m*\u001b[0m\u001b[0margs\u001b[0m\u001b[0;34m,\u001b[0m \u001b[0mscalex\u001b[0m\u001b[0;34m=\u001b[0m\u001b[0mscalex\u001b[0m\u001b[0;34m,\u001b[0m \u001b[0mscaley\u001b[0m\u001b[0;34m=\u001b[0m\u001b[0mscaley\u001b[0m\u001b[0;34m,\u001b[0m\u001b[0;34m\u001b[0m\u001b[0;34m\u001b[0m\u001b[0m\n\u001b[1;32m   2842\u001b[0m         **({\"data\": data} if data is not None else {}), **kwargs)\n",
      "\u001b[0;32m/opt/anaconda3/lib/python3.8/site-packages/matplotlib/axes/_axes.py\u001b[0m in \u001b[0;36mplot\u001b[0;34m(self, scalex, scaley, data, *args, **kwargs)\u001b[0m\n\u001b[1;32m   1741\u001b[0m         \"\"\"\n\u001b[1;32m   1742\u001b[0m         \u001b[0mkwargs\u001b[0m \u001b[0;34m=\u001b[0m \u001b[0mcbook\u001b[0m\u001b[0;34m.\u001b[0m\u001b[0mnormalize_kwargs\u001b[0m\u001b[0;34m(\u001b[0m\u001b[0mkwargs\u001b[0m\u001b[0;34m,\u001b[0m \u001b[0mmlines\u001b[0m\u001b[0;34m.\u001b[0m\u001b[0mLine2D\u001b[0m\u001b[0;34m)\u001b[0m\u001b[0;34m\u001b[0m\u001b[0;34m\u001b[0m\u001b[0m\n\u001b[0;32m-> 1743\u001b[0;31m         \u001b[0mlines\u001b[0m \u001b[0;34m=\u001b[0m \u001b[0;34m[\u001b[0m\u001b[0;34m*\u001b[0m\u001b[0mself\u001b[0m\u001b[0;34m.\u001b[0m\u001b[0m_get_lines\u001b[0m\u001b[0;34m(\u001b[0m\u001b[0;34m*\u001b[0m\u001b[0margs\u001b[0m\u001b[0;34m,\u001b[0m \u001b[0mdata\u001b[0m\u001b[0;34m=\u001b[0m\u001b[0mdata\u001b[0m\u001b[0;34m,\u001b[0m \u001b[0;34m**\u001b[0m\u001b[0mkwargs\u001b[0m\u001b[0;34m)\u001b[0m\u001b[0;34m]\u001b[0m\u001b[0;34m\u001b[0m\u001b[0;34m\u001b[0m\u001b[0m\n\u001b[0m\u001b[1;32m   1744\u001b[0m         \u001b[0;32mfor\u001b[0m \u001b[0mline\u001b[0m \u001b[0;32min\u001b[0m \u001b[0mlines\u001b[0m\u001b[0;34m:\u001b[0m\u001b[0;34m\u001b[0m\u001b[0;34m\u001b[0m\u001b[0m\n\u001b[1;32m   1745\u001b[0m             \u001b[0mself\u001b[0m\u001b[0;34m.\u001b[0m\u001b[0madd_line\u001b[0m\u001b[0;34m(\u001b[0m\u001b[0mline\u001b[0m\u001b[0;34m)\u001b[0m\u001b[0;34m\u001b[0m\u001b[0;34m\u001b[0m\u001b[0m\n",
      "\u001b[0;32m/opt/anaconda3/lib/python3.8/site-packages/matplotlib/axes/_base.py\u001b[0m in \u001b[0;36m__call__\u001b[0;34m(self, data, *args, **kwargs)\u001b[0m\n\u001b[1;32m    271\u001b[0m                 \u001b[0mthis\u001b[0m \u001b[0;34m+=\u001b[0m \u001b[0margs\u001b[0m\u001b[0;34m[\u001b[0m\u001b[0;36m0\u001b[0m\u001b[0;34m]\u001b[0m\u001b[0;34m,\u001b[0m\u001b[0;34m\u001b[0m\u001b[0;34m\u001b[0m\u001b[0m\n\u001b[1;32m    272\u001b[0m                 \u001b[0margs\u001b[0m \u001b[0;34m=\u001b[0m \u001b[0margs\u001b[0m\u001b[0;34m[\u001b[0m\u001b[0;36m1\u001b[0m\u001b[0;34m:\u001b[0m\u001b[0;34m]\u001b[0m\u001b[0;34m\u001b[0m\u001b[0;34m\u001b[0m\u001b[0m\n\u001b[0;32m--> 273\u001b[0;31m             \u001b[0;32myield\u001b[0m \u001b[0;32mfrom\u001b[0m \u001b[0mself\u001b[0m\u001b[0;34m.\u001b[0m\u001b[0m_plot_args\u001b[0m\u001b[0;34m(\u001b[0m\u001b[0mthis\u001b[0m\u001b[0;34m,\u001b[0m \u001b[0mkwargs\u001b[0m\u001b[0;34m)\u001b[0m\u001b[0;34m\u001b[0m\u001b[0;34m\u001b[0m\u001b[0m\n\u001b[0m\u001b[1;32m    274\u001b[0m \u001b[0;34m\u001b[0m\u001b[0m\n\u001b[1;32m    275\u001b[0m     \u001b[0;32mdef\u001b[0m \u001b[0mget_next_color\u001b[0m\u001b[0;34m(\u001b[0m\u001b[0mself\u001b[0m\u001b[0;34m)\u001b[0m\u001b[0;34m:\u001b[0m\u001b[0;34m\u001b[0m\u001b[0;34m\u001b[0m\u001b[0m\n",
      "\u001b[0;32m/opt/anaconda3/lib/python3.8/site-packages/matplotlib/axes/_base.py\u001b[0m in \u001b[0;36m_plot_args\u001b[0;34m(self, tup, kwargs)\u001b[0m\n\u001b[1;32m    386\u001b[0m \u001b[0;34m\u001b[0m\u001b[0m\n\u001b[1;32m    387\u001b[0m         \u001b[0;32mif\u001b[0m \u001b[0mlen\u001b[0m\u001b[0;34m(\u001b[0m\u001b[0mtup\u001b[0m\u001b[0;34m)\u001b[0m \u001b[0;34m==\u001b[0m \u001b[0;36m2\u001b[0m\u001b[0;34m:\u001b[0m\u001b[0;34m\u001b[0m\u001b[0;34m\u001b[0m\u001b[0m\n\u001b[0;32m--> 388\u001b[0;31m             \u001b[0mx\u001b[0m \u001b[0;34m=\u001b[0m \u001b[0m_check_1d\u001b[0m\u001b[0;34m(\u001b[0m\u001b[0mtup\u001b[0m\u001b[0;34m[\u001b[0m\u001b[0;36m0\u001b[0m\u001b[0;34m]\u001b[0m\u001b[0;34m)\u001b[0m\u001b[0;34m\u001b[0m\u001b[0;34m\u001b[0m\u001b[0m\n\u001b[0m\u001b[1;32m    389\u001b[0m             \u001b[0my\u001b[0m \u001b[0;34m=\u001b[0m \u001b[0m_check_1d\u001b[0m\u001b[0;34m(\u001b[0m\u001b[0mtup\u001b[0m\u001b[0;34m[\u001b[0m\u001b[0;34m-\u001b[0m\u001b[0;36m1\u001b[0m\u001b[0;34m]\u001b[0m\u001b[0;34m)\u001b[0m\u001b[0;34m\u001b[0m\u001b[0;34m\u001b[0m\u001b[0m\n\u001b[1;32m    390\u001b[0m         \u001b[0;32melse\u001b[0m\u001b[0;34m:\u001b[0m\u001b[0;34m\u001b[0m\u001b[0;34m\u001b[0m\u001b[0m\n",
      "\u001b[0;32m/opt/anaconda3/lib/python3.8/site-packages/matplotlib/cbook/__init__.py\u001b[0m in \u001b[0;36m_check_1d\u001b[0;34m(x)\u001b[0m\n\u001b[1;32m   1316\u001b[0m                     message='Support for multi-dimensional indexing')\n\u001b[1;32m   1317\u001b[0m \u001b[0;34m\u001b[0m\u001b[0m\n\u001b[0;32m-> 1318\u001b[0;31m                 \u001b[0mndim\u001b[0m \u001b[0;34m=\u001b[0m \u001b[0mx\u001b[0m\u001b[0;34m[\u001b[0m\u001b[0;34m:\u001b[0m\u001b[0;34m,\u001b[0m \u001b[0;32mNone\u001b[0m\u001b[0;34m]\u001b[0m\u001b[0;34m.\u001b[0m\u001b[0mndim\u001b[0m\u001b[0;34m\u001b[0m\u001b[0;34m\u001b[0m\u001b[0m\n\u001b[0m\u001b[1;32m   1319\u001b[0m                 \u001b[0;31m# we have definitely hit a pandas index or series object\u001b[0m\u001b[0;34m\u001b[0m\u001b[0;34m\u001b[0m\u001b[0;34m\u001b[0m\u001b[0m\n\u001b[1;32m   1320\u001b[0m                 \u001b[0;31m# cast to a numpy array.\u001b[0m\u001b[0;34m\u001b[0m\u001b[0;34m\u001b[0m\u001b[0;34m\u001b[0m\u001b[0m\n",
      "\u001b[0;32m/opt/anaconda3/lib/python3.8/site-packages/pandas/core/frame.py\u001b[0m in \u001b[0;36m__getitem__\u001b[0;34m(self, key)\u001b[0m\n\u001b[1;32m   3022\u001b[0m             \u001b[0;32mif\u001b[0m \u001b[0mself\u001b[0m\u001b[0;34m.\u001b[0m\u001b[0mcolumns\u001b[0m\u001b[0;34m.\u001b[0m\u001b[0mnlevels\u001b[0m \u001b[0;34m>\u001b[0m \u001b[0;36m1\u001b[0m\u001b[0;34m:\u001b[0m\u001b[0;34m\u001b[0m\u001b[0;34m\u001b[0m\u001b[0m\n\u001b[1;32m   3023\u001b[0m                 \u001b[0;32mreturn\u001b[0m \u001b[0mself\u001b[0m\u001b[0;34m.\u001b[0m\u001b[0m_getitem_multilevel\u001b[0m\u001b[0;34m(\u001b[0m\u001b[0mkey\u001b[0m\u001b[0;34m)\u001b[0m\u001b[0;34m\u001b[0m\u001b[0;34m\u001b[0m\u001b[0m\n\u001b[0;32m-> 3024\u001b[0;31m             \u001b[0mindexer\u001b[0m \u001b[0;34m=\u001b[0m \u001b[0mself\u001b[0m\u001b[0;34m.\u001b[0m\u001b[0mcolumns\u001b[0m\u001b[0;34m.\u001b[0m\u001b[0mget_loc\u001b[0m\u001b[0;34m(\u001b[0m\u001b[0mkey\u001b[0m\u001b[0;34m)\u001b[0m\u001b[0;34m\u001b[0m\u001b[0;34m\u001b[0m\u001b[0m\n\u001b[0m\u001b[1;32m   3025\u001b[0m             \u001b[0;32mif\u001b[0m \u001b[0mis_integer\u001b[0m\u001b[0;34m(\u001b[0m\u001b[0mindexer\u001b[0m\u001b[0;34m)\u001b[0m\u001b[0;34m:\u001b[0m\u001b[0;34m\u001b[0m\u001b[0;34m\u001b[0m\u001b[0m\n\u001b[1;32m   3026\u001b[0m                 \u001b[0mindexer\u001b[0m \u001b[0;34m=\u001b[0m \u001b[0;34m[\u001b[0m\u001b[0mindexer\u001b[0m\u001b[0;34m]\u001b[0m\u001b[0;34m\u001b[0m\u001b[0;34m\u001b[0m\u001b[0m\n",
      "\u001b[0;32m/opt/anaconda3/lib/python3.8/site-packages/pandas/core/indexes/range.py\u001b[0m in \u001b[0;36mget_loc\u001b[0;34m(self, key, method, tolerance)\u001b[0m\n\u001b[1;32m    352\u001b[0m                 \u001b[0;32mexcept\u001b[0m \u001b[0mValueError\u001b[0m \u001b[0;32mas\u001b[0m \u001b[0merr\u001b[0m\u001b[0;34m:\u001b[0m\u001b[0;34m\u001b[0m\u001b[0;34m\u001b[0m\u001b[0m\n\u001b[1;32m    353\u001b[0m                     \u001b[0;32mraise\u001b[0m \u001b[0mKeyError\u001b[0m\u001b[0;34m(\u001b[0m\u001b[0mkey\u001b[0m\u001b[0;34m)\u001b[0m \u001b[0;32mfrom\u001b[0m \u001b[0merr\u001b[0m\u001b[0;34m\u001b[0m\u001b[0;34m\u001b[0m\u001b[0m\n\u001b[0;32m--> 354\u001b[0;31m             \u001b[0;32mraise\u001b[0m \u001b[0mKeyError\u001b[0m\u001b[0;34m(\u001b[0m\u001b[0mkey\u001b[0m\u001b[0;34m)\u001b[0m\u001b[0;34m\u001b[0m\u001b[0;34m\u001b[0m\u001b[0m\n\u001b[0m\u001b[1;32m    355\u001b[0m         \u001b[0;32mreturn\u001b[0m \u001b[0msuper\u001b[0m\u001b[0;34m(\u001b[0m\u001b[0;34m)\u001b[0m\u001b[0;34m.\u001b[0m\u001b[0mget_loc\u001b[0m\u001b[0;34m(\u001b[0m\u001b[0mkey\u001b[0m\u001b[0;34m,\u001b[0m \u001b[0mmethod\u001b[0m\u001b[0;34m=\u001b[0m\u001b[0mmethod\u001b[0m\u001b[0;34m,\u001b[0m \u001b[0mtolerance\u001b[0m\u001b[0;34m=\u001b[0m\u001b[0mtolerance\u001b[0m\u001b[0;34m)\u001b[0m\u001b[0;34m\u001b[0m\u001b[0;34m\u001b[0m\u001b[0m\n\u001b[1;32m    356\u001b[0m \u001b[0;34m\u001b[0m\u001b[0m\n",
      "\u001b[0;31mKeyError\u001b[0m: (slice(None, None, None), None)"
     ]
    },
    {
     "data": {
      "image/png": "[encoded data removed]",
      "text/plain": [
       "<Figure size 432x288 with 1 Axes>"
      ]
     },
     "metadata": {
      "needs_background": "light"
     },
     "output_type": "display_data"
    }
   ],
   "source": [
    "#I am having trouble getting this to plot. \n",
    "#I think the issue is related to how I'm creating and concating the arrays for the graph (see cell above). \n",
    "#feedback is appreciated.\n",
    "\n",
    "plt.plot(ax, copiesDate)\n",
    "plt.title('Coronavirus Gene Copies in Wastewater')\n",
    "plt.xlabel('Date of Collection')\n",
    "plt.ylabel('Gene Copies Per Liter of Wastewater')"
   ]
  },
  {
   "cell_type": "code",
   "execution_count": null,
   "metadata": {},
   "outputs": [],
   "source": []
  }
 ],
 "metadata": {
  "kernelspec": {
   "display_name": "Python 3",
   "language": "python",
   "name": "python3"
  },
  "language_info": {
   "codemirror_mode": {
    "name": "ipython",
    "version": 3
   },
   "file_extension": ".py",
   "mimetype": "text/x-python",
   "name": "python",
   "nbconvert_exporter": "python",
   "pygments_lexer": "ipython3",
   "version": "3.8.5"
  }
 },
 "nbformat": 4,
 "nbformat_minor": 4
}
